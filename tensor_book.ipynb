{
  "nbformat": 4,
  "nbformat_minor": 0,
  "metadata": {
    "colab": {
      "name": "tensor_book.ipynb",
      "provenance": [],
      "authorship_tag": "ABX9TyOYIUJABYUKOBxcE6wvF//o",
      "include_colab_link": true
    },
    "kernelspec": {
      "name": "python3",
      "display_name": "Python 3"
    }
  },
  "cells": [
    {
      "cell_type": "markdown",
      "metadata": {
        "id": "view-in-github",
        "colab_type": "text"
      },
      "source": [
        "<a href=\"https://colab.research.google.com/github/cnovice/tensor_examples/blob/master/tensor_book.ipynb\" target=\"_parent\"><img src=\"https://colab.research.google.com/assets/colab-badge.svg\" alt=\"Open In Colab\"/></a>"
      ]
    },
    {
      "cell_type": "markdown",
      "metadata": {
        "id": "Xlc9E3IFkMOj",
        "colab_type": "text"
      },
      "source": [
        "Supervised learning algorithms\n",
        "* k-Nearest Neighbors\n",
        "* Linear Regression\n",
        "* Logistic Regression\n",
        "* Support Vector Machines(SVMs)\n",
        "* Decision Trees and Random Forests\n",
        "* Neural networks\n",
        "\n",
        "Unsupervised learning algorithms\n",
        "* Clustering\n",
        "  - K-Means\n",
        "  - DBSCAN\n",
        "  - Hierarchical Cluseter Analysis(HCA)\n",
        "* Anomaly detection and novelty detection\n",
        "  - One-class SVM\n",
        "  - Isolation Forest\n",
        "* Visualization and dimensionality reduction\n",
        "  - "
      ]
    },
    {
      "cell_type": "code",
      "metadata": {
        "id": "UUzADEu5kK92",
        "colab_type": "code",
        "colab": {}
      },
      "source": [
        ""
      ],
      "execution_count": null,
      "outputs": []
    }
  ]
}